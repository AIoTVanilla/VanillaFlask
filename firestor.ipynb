{
 "cells": [
  {
   "cell_type": "code",
   "execution_count": null,
   "metadata": {
    "tags": []
   },
   "outputs": [
    {
     "ename": "",
     "evalue": "",
     "output_type": "error",
     "traceback": [
      "\u001b[1;31mFailed to start the Kernel. \n",
      "\u001b[1;31mJupyter server crashed. Unable to connect. \n",
      "\u001b[1;31mError code from Jupyter: 1\n",
      "\u001b[1;31mError executing Jupyter command 'notebook': [Errno 2] No such file or directory. \n",
      "\u001b[1;31mView Jupyter <a href='command:jupyter.viewOutput'>log</a> for further details."
     ]
    }
   ],
   "source": [
    "import firebase_admin\n",
    "from firebase_admin import credentials\n",
    "from firebase_admin import firestore\n",
    "\n",
    "\n",
    "# Use a service account.\n",
    "cred = credentials.Certificate('./vanilla-3a108-firebase-adminsdk-ysr0t-9ce51811c0.json')\n",
    "app = firebase_admin.initialize_app(cred)\n",
    "db = firestore.client()"
   ]
  },
  {
   "cell_type": "code",
   "execution_count": 2,
   "metadata": {
    "tags": []
   },
   "outputs": [],
   "source": [
    "# 데이터 전체 읽기\n",
    "users_ref = db.collection('mdevice')\n",
    "docs = users_ref.stream()\n",
    "\n",
    "for doc in docs:\n",
    "    print(f'{doc.id} => {doc.to_dict()}')\n",
    "    doc.reference.delete()"
   ]
  },
  {
   "cell_type": "code",
   "execution_count": 17,
   "metadata": {},
   "outputs": [
    {
     "data": {
      "text/plain": [
       "update_time {\n",
       "  seconds: 1673877263\n",
       "  nanos: 646389000\n",
       "}"
      ]
     },
     "execution_count": 17,
     "metadata": {},
     "output_type": "execute_result"
    }
   ],
   "source": [
    "doc_ref = db.collection('mdevice').document('d000001')\n",
    "\n",
    "# 특수 필드 사용\n",
    "# 특정 맵의 필드를 추가하기위해 < 맵.필드 : 값 > 사용\n",
    "doc_ref.update({'sensor': data[\"sensor\"]})\n"
   ]
  },
  {
   "cell_type": "code",
   "execution_count": 5,
   "metadata": {},
   "outputs": [
    {
     "name": "stdout",
     "output_type": "stream",
     "text": [
      "e9QHFTHDWjzACeQ41IPp\n"
     ]
    },
    {
     "data": {
      "text/plain": [
       "update_time {\n",
       "  seconds: 1676513404\n",
       "  nanos: 917325000\n",
       "}\n",
       "transform_results {\n",
       "  timestamp_value {\n",
       "    seconds: 1676513404\n",
       "    nanos: 731000000\n",
       "  }\n",
       "}"
      ]
     },
     "execution_count": 5,
     "metadata": {},
     "output_type": "execute_result"
    }
   ],
   "source": [
    "doc_ref = db.collection('speaker').document()\n",
    "\n",
    "data = {\n",
    "    \"command\": \"request_fake_api\",\n",
    "    \"result\": '{\"result\":8,\"success\":true}',\n",
    "    \"execute_time\": firestore.firestore.SERVER_TIMESTAMP\n",
    "}\n",
    "id = doc_ref.id\n",
    "print(id) \n",
    "doc_ref.set(data)"
   ]
  },
  {
   "cell_type": "code",
   "execution_count": 6,
   "metadata": {},
   "outputs": [
    {
     "name": "stdout",
     "output_type": "stream",
     "text": [
      "FfeGkaiPCXSw3MnL5qHc\n"
     ]
    },
    {
     "data": {
      "text/plain": [
       "update_time {\n",
       "  seconds: 1676513684\n",
       "  nanos: 962103000\n",
       "}\n",
       "transform_results {\n",
       "  timestamp_value {\n",
       "    seconds: 1676513684\n",
       "    nanos: 942000000\n",
       "  }\n",
       "}"
      ]
     },
     "execution_count": 6,
     "metadata": {},
     "output_type": "execute_result"
    }
   ],
   "source": [
    "doc_ref = db.collection('snack').document()\n",
    "\n",
    "data = {\n",
    "    \"snack1\": 0,\n",
    "    \"snack2\": 5,\n",
    "    \"snack3\": 2,\n",
    "    \"snack4\": 0,\n",
    "    \"snack5\": 0,\n",
    "    \"execute_time\": firestore.firestore.SERVER_TIMESTAMP\n",
    "}\n",
    "id = doc_ref.id\n",
    "print(id) \n",
    "doc_ref.set(data)"
   ]
  },
  {
   "cell_type": "code",
   "execution_count": 7,
   "metadata": {},
   "outputs": [
    {
     "name": "stdout",
     "output_type": "stream",
     "text": [
      "CXsh4t0aSEm2QcGpNGlZ\n"
     ]
    },
    {
     "data": {
      "text/plain": [
       "update_time {\n",
       "  seconds: 1676514191\n",
       "  nanos: 219729000\n",
       "}\n",
       "transform_results {\n",
       "  timestamp_value {\n",
       "    seconds: 1676514191\n",
       "    nanos: 201000000\n",
       "  }\n",
       "}"
      ]
     },
     "execution_count": 7,
     "metadata": {},
     "output_type": "execute_result"
    }
   ],
   "source": [
    "doc_ref = db.collection('warehouse').document()\n",
    "\n",
    "data = {\n",
    "    \"snack1\": 5,\n",
    "    \"snack2\": -3,    \n",
    "    \"snack3\": -1,\n",
    "    \"snack4\": 0, \n",
    "    \"snack5\": 2, \n",
    "    \"execute_time\": firestore.firestore.SERVER_TIMESTAMP\n",
    "}\n",
    "id = doc_ref.id\n",
    "print(id) \n",
    "doc_ref.set(data)"
   ]
  },
  {
   "cell_type": "code",
   "execution_count": 245,
   "metadata": {
    "tags": []
   },
   "outputs": [],
   "source": [
    "from datetime import datetime, timezone, timedelta\n",
    "from google.api_core.datetime_helpers import DatetimeWithNanoseconds\n",
    "\n",
    "# str_time = \"2022.02.21 23:50:00\"\n",
    "# ts = datetime.strptime(str_time, \"%Y.%m.%d %H:%M:%S\")\n",
    "# ts = ts.replace(tzinfo=timezone(timedelta(hours=9)))\n",
    "# str_ts = DatetimeWithNanoseconds.fromisoformat(str(ts))\n",
    "str_ts = DatetimeWithNanoseconds(2023, 2, 21, 21, 0, 0, 0, tzinfo=timezone(timedelta(hours=9)))\n",
    "\n",
    "device = db.collection('snack').order_by('execute_time').start_at({\n",
    "    'execute_time': str_ts\n",
    "})"
   ]
  },
  {
   "cell_type": "code",
   "execution_count": 246,
   "metadata": {
    "tags": []
   },
   "outputs": [],
   "source": [
    "# device.get()[0].to_dict()"
   ]
  },
  {
   "cell_type": "code",
   "execution_count": 247,
   "metadata": {
    "tags": []
   },
   "outputs": [],
   "source": [
    "# device.get()[9].to_dict()"
   ]
  },
  {
   "cell_type": "code",
   "execution_count": 248,
   "metadata": {
    "tags": []
   },
   "outputs": [
    {
     "data": {
      "text/plain": [
       "96"
      ]
     },
     "execution_count": 248,
     "metadata": {},
     "output_type": "execute_result"
    }
   ],
   "source": [
    "len(device.get())"
   ]
  },
  {
   "cell_type": "code",
   "execution_count": 192,
   "metadata": {
    "tags": []
   },
   "outputs": [
    {
     "data": {
      "text/plain": [
       "10"
      ]
     },
     "execution_count": 192,
     "metadata": {},
     "output_type": "execute_result"
    }
   ],
   "source": [
    "len(a)"
   ]
  },
  {
   "cell_type": "code",
   "execution_count": 253,
   "metadata": {
    "tags": []
   },
   "outputs": [
    {
     "data": {
      "text/plain": [
       "2023"
      ]
     },
     "execution_count": 253,
     "metadata": {},
     "output_type": "execute_result"
    }
   ],
   "source": [
    "datetime.now().year"
   ]
  },
  {
   "cell_type": "code",
   "execution_count": 254,
   "metadata": {
    "tags": []
   },
   "outputs": [
    {
     "data": {
      "text/plain": [
       "2"
      ]
     },
     "execution_count": 254,
     "metadata": {},
     "output_type": "execute_result"
    }
   ],
   "source": [
    "datetime.now().month"
   ]
  },
  {
   "cell_type": "code",
   "execution_count": 255,
   "metadata": {
    "tags": []
   },
   "outputs": [
    {
     "data": {
      "text/plain": [
       "21"
      ]
     },
     "execution_count": 255,
     "metadata": {},
     "output_type": "execute_result"
    }
   ],
   "source": [
    "datetime.now().day"
   ]
  },
  {
   "cell_type": "code",
   "execution_count": 258,
   "metadata": {
    "tags": []
   },
   "outputs": [
    {
     "data": {
      "text/plain": [
       "32"
      ]
     },
     "execution_count": 258,
     "metadata": {},
     "output_type": "execute_result"
    }
   ],
   "source": [
    "datetime.now().minute"
   ]
  },
  {
   "cell_type": "code",
   "execution_count": 12,
   "metadata": {
    "tags": []
   },
   "outputs": [
    {
     "name": "stdout",
     "output_type": "stream",
     "text": [
      "no\n"
     ]
    }
   ],
   "source": [
    "snack_ref = db.collection('snack').document(\"11\")\n",
    "\n",
    "if snack_ref.get():\n",
    "    print(\"no\")"
   ]
  },
  {
   "cell_type": "code",
   "execution_count": null,
   "metadata": {},
   "outputs": [],
   "source": []
  },
  {
   "cell_type": "code",
   "execution_count": null,
   "metadata": {},
   "outputs": [],
   "source": []
  }
 ],
 "metadata": {
  "kernelspec": {
   "display_name": "vanilla",
   "language": "python",
   "name": "python3"
  },
  "language_info": {
   "codemirror_mode": {
    "name": "ipython",
    "version": 3
   },
   "file_extension": ".py",
   "mimetype": "text/x-python",
   "name": "python",
   "nbconvert_exporter": "python",
   "pygments_lexer": "ipython3",
   "version": "3.8.16"
  },
  "vscode": {
   "interpreter": {
    "hash": "8c113736736ffbe33661dee0ee85422ce7ad6cfb6123ec0ac892ac468d8e8750"
   }
  }
 },
 "nbformat": 4,
 "nbformat_minor": 4
}
