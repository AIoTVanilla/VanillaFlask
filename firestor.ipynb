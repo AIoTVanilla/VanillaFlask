{
 "cells": [
  {
   "cell_type": "code",
   "execution_count": 2,
   "metadata": {},
   "outputs": [],
   "source": [
    "import firebase_admin\n",
    "from firebase_admin import credentials\n",
    "from firebase_admin import firestore\n",
    "\n",
    "\n",
    "# Use a service account.\n",
    "cred = credentials.Certificate('./vanilla-3a108-firebase-adminsdk-ysr0t-9ce51811c0.json')\n",
    "app = firebase_admin.initialize_app(cred)\n",
    "db = firestore.client()"
   ]
  },
  {
   "cell_type": "code",
   "execution_count": 3,
   "metadata": {},
   "outputs": [],
   "source": [
    "# 데이터 전체 읽기\n",
    "users_ref = db.collection('mdevice')\n",
    "docs = users_ref.stream()\n",
    "\n",
    "for doc in docs:\n",
    "    print(f'{doc.id} => {doc.to_dict()}')\n",
    "    doc.reference.delete()"
   ]
  },
  {
   "cell_type": "code",
   "execution_count": 17,
   "metadata": {},
   "outputs": [
    {
     "data": {
      "text/plain": [
       "update_time {\n",
       "  seconds: 1673877263\n",
       "  nanos: 646389000\n",
       "}"
      ]
     },
     "execution_count": 17,
     "metadata": {},
     "output_type": "execute_result"
    }
   ],
   "source": [
    "doc_ref = db.collection('mdevice').document('d000001')\n",
    "\n",
    "# 특수 필드 사용\n",
    "# 특정 맵의 필드를 추가하기위해 < 맵.필드 : 값 > 사용\n",
    "doc_ref.update({'sensor': data[\"sensor\"]})\n"
   ]
  },
  {
   "cell_type": "code",
   "execution_count": 5,
   "metadata": {},
   "outputs": [
    {
     "name": "stdout",
     "output_type": "stream",
     "text": [
      "e9QHFTHDWjzACeQ41IPp\n"
     ]
    },
    {
     "data": {
      "text/plain": [
       "update_time {\n",
       "  seconds: 1676513404\n",
       "  nanos: 917325000\n",
       "}\n",
       "transform_results {\n",
       "  timestamp_value {\n",
       "    seconds: 1676513404\n",
       "    nanos: 731000000\n",
       "  }\n",
       "}"
      ]
     },
     "execution_count": 5,
     "metadata": {},
     "output_type": "execute_result"
    }
   ],
   "source": [
    "doc_ref = db.collection('speaker').document()\n",
    "\n",
    "data = {\n",
    "    \"command\": \"request_fake_api\",\n",
    "    \"result\": '{\"result\":8,\"success\":true}',\n",
    "    \"execute_time\": firestore.firestore.SERVER_TIMESTAMP\n",
    "}\n",
    "id = doc_ref.id\n",
    "print(id) \n",
    "doc_ref.set(data)"
   ]
  },
  {
   "cell_type": "code",
   "execution_count": 6,
   "metadata": {},
   "outputs": [
    {
     "name": "stdout",
     "output_type": "stream",
     "text": [
      "FfeGkaiPCXSw3MnL5qHc\n"
     ]
    },
    {
     "data": {
      "text/plain": [
       "update_time {\n",
       "  seconds: 1676513684\n",
       "  nanos: 962103000\n",
       "}\n",
       "transform_results {\n",
       "  timestamp_value {\n",
       "    seconds: 1676513684\n",
       "    nanos: 942000000\n",
       "  }\n",
       "}"
      ]
     },
     "execution_count": 6,
     "metadata": {},
     "output_type": "execute_result"
    }
   ],
   "source": [
    "doc_ref = db.collection('snack').document()\n",
    "\n",
    "data = {\n",
    "    \"snack1\": 0,\n",
    "    \"snack2\": 5,\n",
    "    \"snack3\": 2,\n",
    "    \"snack4\": 0,\n",
    "    \"snack5\": 0,\n",
    "    \"execute_time\": firestore.firestore.SERVER_TIMESTAMP\n",
    "}\n",
    "id = doc_ref.id\n",
    "print(id) \n",
    "doc_ref.set(data)"
   ]
  },
  {
   "cell_type": "code",
   "execution_count": 7,
   "metadata": {},
   "outputs": [
    {
     "name": "stdout",
     "output_type": "stream",
     "text": [
      "CXsh4t0aSEm2QcGpNGlZ\n"
     ]
    },
    {
     "data": {
      "text/plain": [
       "update_time {\n",
       "  seconds: 1676514191\n",
       "  nanos: 219729000\n",
       "}\n",
       "transform_results {\n",
       "  timestamp_value {\n",
       "    seconds: 1676514191\n",
       "    nanos: 201000000\n",
       "  }\n",
       "}"
      ]
     },
     "execution_count": 7,
     "metadata": {},
     "output_type": "execute_result"
    }
   ],
   "source": [
    "doc_ref = db.collection('warehouse').document()\n",
    "\n",
    "data = {\n",
    "    \"snack1\": 5,\n",
    "    \"snack2\": -3,    \n",
    "    \"snack3\": -1,\n",
    "    \"snack4\": 0, \n",
    "    \"snack5\": 2, \n",
    "    \"execute_time\": firestore.firestore.SERVER_TIMESTAMP\n",
    "}\n",
    "id = doc_ref.id\n",
    "print(id) \n",
    "doc_ref.set(data)"
   ]
  },
  {
   "cell_type": "code",
   "execution_count": null,
   "metadata": {},
   "outputs": [],
   "source": []
  }
 ],
 "metadata": {
  "kernelspec": {
   "display_name": "vanilla",
   "language": "python",
   "name": "python3"
  },
  "language_info": {
   "codemirror_mode": {
    "name": "ipython",
    "version": 3
   },
   "file_extension": ".py",
   "mimetype": "text/x-python",
   "name": "python",
   "nbconvert_exporter": "python",
   "pygments_lexer": "ipython3",
   "version": "3.8.16"
  },
  "orig_nbformat": 4,
  "vscode": {
   "interpreter": {
    "hash": "33b35d590eb56fdbc86f500234c8e360378c16eee8bb7e47cb29a60bbfc6e084"
   }
  }
 },
 "nbformat": 4,
 "nbformat_minor": 2
}
